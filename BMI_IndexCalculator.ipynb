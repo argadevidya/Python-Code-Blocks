{
 "cells": [
  {
   "cell_type": "markdown",
   "id": "703d3d14",
   "metadata": {},
   "source": [
    "### What is Body Mass Index (BMI)?\n",
    "BMI is a measure of relative weight based on an individual’s mass and height. Today, Body Mass Index is commonly used to classify people as underweight, overweight, and even with obesity. Also, it is adopted by countries to promote healthy eating.\n",
    "\n",
    "BMI can be considered as an alternative for direct measurements of body fat. Besides, BMI is an inexpensive and easy-to-perform method of screening for weight classes that may cause health problems.\n",
    "\n",
    "### BMI Calculator with Python\n",
    "The body mass index is calculated by dividing an individual’s weight in kilograms by their height in meters, then dividing the answer again by their height. Now let’s see how to create a BMI calculator with Python:"
   ]
  },
  {
   "cell_type": "code",
   "execution_count": 3,
   "id": "91de14ad",
   "metadata": {},
   "outputs": [
    {
     "name": "stdout",
     "output_type": "stream",
     "text": [
      "Enter your height in centimeters: 164.592\n",
      "Enter your Weight in Kg: 60\n",
      "your Body Mass Index is:  22.147963820390377\n",
      "you are Healthy\n"
     ]
    }
   ],
   "source": [
    "Height=float(input(\"Enter your height in centimeters: \"))\n",
    "Weight=float(input(\"Enter your Weight in Kg: \"))\n",
    "Height = Height/100\n",
    "BMI=Weight/(Height*Height)\n",
    "print(\"your Body Mass Index is: \",BMI)\n",
    "if(BMI>0):\n",
    "    if(BMI<=16):\n",
    "        print(\"you are severely underweight\")\n",
    "    elif(BMI<=18.5):\n",
    "        print(\"you are underweight\")\n",
    "    elif(BMI<=25):\n",
    "        print(\"you are Healthy\")\n",
    "    elif(BMI<=30):\n",
    "        print(\"you are overweight\")\n",
    "    else: print(\"you are severely overweight\")\n",
    "else:(\"enter valid details\")"
   ]
  },
  {
   "cell_type": "markdown",
   "id": "420b0659",
   "metadata": {},
   "source": [
    "#### Program Output:\n",
    "\n",
    "Enter your height in centimeters: 164.592 <br>\n",
    "Enter your Weight in Kg: 59<br>\n",
    "your Body Mass Index is:  21.778831090050534<br>\n",
    "you are Healthy"
   ]
  },
  {
   "cell_type": "code",
   "execution_count": null,
   "id": "219184fb",
   "metadata": {},
   "outputs": [],
   "source": []
  }
 ],
 "metadata": {
  "kernelspec": {
   "display_name": "Python 3 (ipykernel)",
   "language": "python",
   "name": "python3"
  },
  "language_info": {
   "codemirror_mode": {
    "name": "ipython",
    "version": 3
   },
   "file_extension": ".py",
   "mimetype": "text/x-python",
   "name": "python",
   "nbconvert_exporter": "python",
   "pygments_lexer": "ipython3",
   "version": "3.9.12"
  }
 },
 "nbformat": 4,
 "nbformat_minor": 5
}
