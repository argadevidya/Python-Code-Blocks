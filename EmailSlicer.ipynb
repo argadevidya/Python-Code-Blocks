{
 "cells": [
  {
   "cell_type": "markdown",
   "id": "a125508e",
   "metadata": {},
   "source": [
    "### Email Slicer with Python\n",
    "To create an email slicer with Python, our task is to write a program that can retrieve the username and the domain name of the email. For example, look at the image below which shows the domain and username of “customer@gmail.com”:\n",
    "\n",
    "email slicer with Python\n",
    "So we need to divide the email into two strings using ‘@’ as the separator. Let’s see how to separate the email and domain name with Python:"
   ]
  },
  {
   "cell_type": "code",
   "execution_count": null,
   "id": "d8bb4000",
   "metadata": {},
   "outputs": [],
   "source": [
    "email = input(\"Enter Your Email: \").strip()\n",
    "username = email[:email.index(\"@\")]\n",
    "domain_name = email[email.index(\"@\")+1:]\n",
    "format_ = (f\"Your user name is '{username}' and your domain is '{domain_name}'\")\n",
    "print(format_)"
   ]
  },
  {
   "cell_type": "markdown",
   "id": "f37065b1",
   "metadata": {},
   "source": [
    "### Email Slicer with Python Program explanation:\n",
    "\n",
    "We take user input and use the strip function at the same time to remove white space if any. Then we are finding the index of ‘@’ symbol of the user input. Then we store the index into a variable known as domain_name to split the email into two parts; the user name and the domain."
   ]
  },
  {
   "cell_type": "code",
   "execution_count": null,
   "id": "4e44dc6e",
   "metadata": {},
   "outputs": [],
   "source": []
  }
 ],
 "metadata": {
  "kernelspec": {
   "display_name": "Python 3 (ipykernel)",
   "language": "python",
   "name": "python3"
  },
  "language_info": {
   "codemirror_mode": {
    "name": "ipython",
    "version": 3
   },
   "file_extension": ".py",
   "mimetype": "text/x-python",
   "name": "python",
   "nbconvert_exporter": "python",
   "pygments_lexer": "ipython3",
   "version": "3.9.12"
  }
 },
 "nbformat": 4,
 "nbformat_minor": 5
}
